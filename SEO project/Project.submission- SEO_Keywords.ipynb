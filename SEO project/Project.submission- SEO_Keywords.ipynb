{
 "cells": [
  {
   "cell_type": "markdown",
   "metadata": {},
   "source": [
    "## Finding Keywords from Research Papers for the  Marketing of AI Conference with the help of NLP"
   ]
  },
  {
   "cell_type": "code",
   "execution_count": 1,
   "metadata": {},
   "outputs": [],
   "source": [
    "#importing all required packages and libraries\n",
    "import operator\n",
    "import itertools\n",
    "import numpy as np\n",
    "import pandas as pd\n",
    "import nltk \n",
    "import nltk.corpus\n",
    "from nltk.tokenize import word_tokenize,sent_tokenize\n",
    "from sklearn.feature_extraction.text import TfidfVectorizer\n",
    "from nltk.corpus import stopwords\n",
    "from nltk.tokenize import word_tokenize\n",
    "from nltk.stem import WordNetLemmatizer\n",
    "\n",
    "import matplotlib.pyplot as plt\n",
    "import matplotlib.cm as cm\n",
    "from sklearn.cluster import KMeans\n",
    "\n",
    "from sklearn.decomposition import PCA\n",
    "from sklearn.manifold import TSNE\n",
    "\n"
   ]
  },
  {
   "cell_type": "code",
   "execution_count": 2,
   "metadata": {},
   "outputs": [
    {
     "data": {
      "text/html": [
       "<div>\n",
       "<style scoped>\n",
       "    .dataframe tbody tr th:only-of-type {\n",
       "        vertical-align: middle;\n",
       "    }\n",
       "\n",
       "    .dataframe tbody tr th {\n",
       "        vertical-align: top;\n",
       "    }\n",
       "\n",
       "    .dataframe thead th {\n",
       "        text-align: right;\n",
       "    }\n",
       "</style>\n",
       "<table border=\"1\" class=\"dataframe\">\n",
       "  <thead>\n",
       "    <tr style=\"text-align: right;\">\n",
       "      <th></th>\n",
       "      <th>title</th>\n",
       "      <th>authors</th>\n",
       "      <th>groups</th>\n",
       "      <th>keywords</th>\n",
       "      <th>topics</th>\n",
       "      <th>abstract</th>\n",
       "    </tr>\n",
       "  </thead>\n",
       "  <tbody>\n",
       "    <tr>\n",
       "      <td>0</td>\n",
       "      <td>Kernelized Bayesian Transfer Learning</td>\n",
       "      <td>Mehmet Gönen and Adam A. Margolin</td>\n",
       "      <td>Novel Machine Learning Algorithms (NMLA)</td>\n",
       "      <td>cross-domain learning\\ndomain adaptation\\nkern...</td>\n",
       "      <td>APP: Biomedical / Bioinformatics\\nNMLA: Bayesi...</td>\n",
       "      <td>Transfer learning considers related but distin...</td>\n",
       "    </tr>\n",
       "    <tr>\n",
       "      <td>1</td>\n",
       "      <td>\"Source Free\" Transfer Learning for Text Class...</td>\n",
       "      <td>Zhongqi Lu, Yin Zhu, Sinno Pan, Evan Xiang, Yu...</td>\n",
       "      <td>AI and the Web (AIW)\\nNovel Machine Learning A...</td>\n",
       "      <td>Transfer Learning\\nAuxiliary Data Retrieval\\nT...</td>\n",
       "      <td>AIW: Knowledge acquisition from the web\\nAIW: ...</td>\n",
       "      <td>Transfer learning uses relevant auxiliary data...</td>\n",
       "    </tr>\n",
       "    <tr>\n",
       "      <td>2</td>\n",
       "      <td>A Generalization of Probabilistic Serial to Ra...</td>\n",
       "      <td>Haris Aziz and Paul Stursberg</td>\n",
       "      <td>Game Theory and Economic Paradigms (GTEP)</td>\n",
       "      <td>social choice theory\\nvoting\\nfair division\\ns...</td>\n",
       "      <td>GTEP: Game Theory\\nGTEP: Social Choice / Voting</td>\n",
       "      <td>The probabilistic serial (PS) rule is one of t...</td>\n",
       "    </tr>\n",
       "    <tr>\n",
       "      <td>3</td>\n",
       "      <td>Lifetime Lexical Variation in Social Media</td>\n",
       "      <td>Liao Lizi, Jing Jiang, Ying Ding, Heyan Huang ...</td>\n",
       "      <td>NLP and Text Mining (NLPTM)</td>\n",
       "      <td>Generative model\\nSocial Networks\\nAge Prediction</td>\n",
       "      <td>AIW: Web personalization and user modeling\\nNL...</td>\n",
       "      <td>As the rapid growth of online social media att...</td>\n",
       "    </tr>\n",
       "    <tr>\n",
       "      <td>4</td>\n",
       "      <td>Hybrid Singular Value Thresholding for Tensor ...</td>\n",
       "      <td>Xiaoqin Zhang, Zhengyuan Zhou, Di Wang and Yi Ma</td>\n",
       "      <td>Knowledge Representation and Reasoning (KRR)\\n...</td>\n",
       "      <td>tensor completion\\nlow-rank recovery\\nhybrid s...</td>\n",
       "      <td>KRR: Knowledge Representation (General/Other)\\...</td>\n",
       "      <td>In this paper, we study the low-rank tensor co...</td>\n",
       "    </tr>\n",
       "  </tbody>\n",
       "</table>\n",
       "</div>"
      ],
      "text/plain": [
       "                                               title  \\\n",
       "0              Kernelized Bayesian Transfer Learning   \n",
       "1  \"Source Free\" Transfer Learning for Text Class...   \n",
       "2  A Generalization of Probabilistic Serial to Ra...   \n",
       "3         Lifetime Lexical Variation in Social Media   \n",
       "4  Hybrid Singular Value Thresholding for Tensor ...   \n",
       "\n",
       "                                             authors  \\\n",
       "0                  Mehmet Gönen and Adam A. Margolin   \n",
       "1  Zhongqi Lu, Yin Zhu, Sinno Pan, Evan Xiang, Yu...   \n",
       "2                      Haris Aziz and Paul Stursberg   \n",
       "3  Liao Lizi, Jing Jiang, Ying Ding, Heyan Huang ...   \n",
       "4   Xiaoqin Zhang, Zhengyuan Zhou, Di Wang and Yi Ma   \n",
       "\n",
       "                                              groups  \\\n",
       "0           Novel Machine Learning Algorithms (NMLA)   \n",
       "1  AI and the Web (AIW)\\nNovel Machine Learning A...   \n",
       "2          Game Theory and Economic Paradigms (GTEP)   \n",
       "3                        NLP and Text Mining (NLPTM)   \n",
       "4  Knowledge Representation and Reasoning (KRR)\\n...   \n",
       "\n",
       "                                            keywords  \\\n",
       "0  cross-domain learning\\ndomain adaptation\\nkern...   \n",
       "1  Transfer Learning\\nAuxiliary Data Retrieval\\nT...   \n",
       "2  social choice theory\\nvoting\\nfair division\\ns...   \n",
       "3  Generative model\\nSocial Networks\\nAge Prediction   \n",
       "4  tensor completion\\nlow-rank recovery\\nhybrid s...   \n",
       "\n",
       "                                              topics  \\\n",
       "0  APP: Biomedical / Bioinformatics\\nNMLA: Bayesi...   \n",
       "1  AIW: Knowledge acquisition from the web\\nAIW: ...   \n",
       "2    GTEP: Game Theory\\nGTEP: Social Choice / Voting   \n",
       "3  AIW: Web personalization and user modeling\\nNL...   \n",
       "4  KRR: Knowledge Representation (General/Other)\\...   \n",
       "\n",
       "                                            abstract  \n",
       "0  Transfer learning considers related but distin...  \n",
       "1  Transfer learning uses relevant auxiliary data...  \n",
       "2  The probabilistic serial (PS) rule is one of t...  \n",
       "3  As the rapid growth of online social media att...  \n",
       "4  In this paper, we study the low-rank tensor co...  "
      ]
     },
     "execution_count": 2,
     "metadata": {},
     "output_type": "execute_result"
    }
   ],
   "source": [
    "#importing data set\n",
    "df = pd.read_csv('C:\\\\Users\\\\PankajR\\\\Downloads\\\\college_reserach_papers.csv')\n",
    "#displaying first 5 rows of dataframe\n",
    "df.head()"
   ]
  },
  {
   "cell_type": "code",
   "execution_count": 3,
   "metadata": {},
   "outputs": [],
   "source": [
    "#As abstract and other columns  are too descriptive and not making much sence for analysis so dropping that column and considering rest\n",
    "ndf = df[['title','groups','keywords','topics']]\n"
   ]
  },
  {
   "cell_type": "code",
   "execution_count": 4,
   "metadata": {},
   "outputs": [],
   "source": [
    "#saving new dataframe as csv file\n",
    "ndf.to_csv('new.csv')"
   ]
  },
  {
   "cell_type": "code",
   "execution_count": 5,
   "metadata": {
    "scrolled": true
   },
   "outputs": [
    {
     "data": {
      "text/plain": [
       "pandas.core.series.Series"
      ]
     },
     "execution_count": 5,
     "metadata": {},
     "output_type": "execute_result"
    }
   ],
   "source": [
    "type(ndf.groups)"
   ]
  },
  {
   "cell_type": "markdown",
   "metadata": {},
   "source": [
    "### Data Cleaning"
   ]
  },
  {
   "cell_type": "code",
   "execution_count": 6,
   "metadata": {},
   "outputs": [],
   "source": [
    "#removing \"\\n\" and \"/\" from all data\n",
    "ndf = ndf.replace(r'\\n',' ', regex=True) \n",
    "ndf = ndf.replace(r' /',' ', regex=True) \n",
    "ndf = ndf.replace(r', ,,',' ', regex=True) \n",
    "\n"
   ]
  },
  {
   "cell_type": "code",
   "execution_count": 7,
   "metadata": {
    "scrolled": true
   },
   "outputs": [
    {
     "data": {
      "text/html": [
       "<div>\n",
       "<style scoped>\n",
       "    .dataframe tbody tr th:only-of-type {\n",
       "        vertical-align: middle;\n",
       "    }\n",
       "\n",
       "    .dataframe tbody tr th {\n",
       "        vertical-align: top;\n",
       "    }\n",
       "\n",
       "    .dataframe thead th {\n",
       "        text-align: right;\n",
       "    }\n",
       "</style>\n",
       "<table border=\"1\" class=\"dataframe\">\n",
       "  <thead>\n",
       "    <tr style=\"text-align: right;\">\n",
       "      <th></th>\n",
       "      <th>title</th>\n",
       "      <th>groups</th>\n",
       "      <th>keywords</th>\n",
       "      <th>topics</th>\n",
       "    </tr>\n",
       "  </thead>\n",
       "  <tbody>\n",
       "    <tr>\n",
       "      <td>0</td>\n",
       "      <td>Kernelized Bayesian Transfer Learning</td>\n",
       "      <td>Novel Machine Learning Algorithms (NMLA)</td>\n",
       "      <td>cross-domain learning domain adaptation kernel...</td>\n",
       "      <td>APP: Biomedical  Bioinformatics NMLA: Bayesian...</td>\n",
       "    </tr>\n",
       "    <tr>\n",
       "      <td>1</td>\n",
       "      <td>\"Source Free\" Transfer Learning for Text Class...</td>\n",
       "      <td>AI and the Web (AIW) Novel Machine Learning Al...</td>\n",
       "      <td>Transfer Learning Auxiliary Data Retrieval Tex...</td>\n",
       "      <td>AIW: Knowledge acquisition from the web AIW: M...</td>\n",
       "    </tr>\n",
       "    <tr>\n",
       "      <td>2</td>\n",
       "      <td>A Generalization of Probabilistic Serial to Ra...</td>\n",
       "      <td>Game Theory and Economic Paradigms (GTEP)</td>\n",
       "      <td>social choice theory voting fair division soci...</td>\n",
       "      <td>GTEP: Game Theory GTEP: Social Choice  Voting</td>\n",
       "    </tr>\n",
       "    <tr>\n",
       "      <td>3</td>\n",
       "      <td>Lifetime Lexical Variation in Social Media</td>\n",
       "      <td>NLP and Text Mining (NLPTM)</td>\n",
       "      <td>Generative model Social Networks Age Prediction</td>\n",
       "      <td>AIW: Web personalization and user modeling NLP...</td>\n",
       "    </tr>\n",
       "    <tr>\n",
       "      <td>4</td>\n",
       "      <td>Hybrid Singular Value Thresholding for Tensor ...</td>\n",
       "      <td>Knowledge Representation and Reasoning (KRR) M...</td>\n",
       "      <td>tensor completion low-rank recovery hybrid sin...</td>\n",
       "      <td>KRR: Knowledge Representation (General/Other) ...</td>\n",
       "    </tr>\n",
       "    <tr>\n",
       "      <td>...</td>\n",
       "      <td>...</td>\n",
       "      <td>...</td>\n",
       "      <td>...</td>\n",
       "      <td>...</td>\n",
       "    </tr>\n",
       "    <tr>\n",
       "      <td>393</td>\n",
       "      <td>Mapping Users Across Networks by Manifold Alig...</td>\n",
       "      <td>AI and the Web (AIW)</td>\n",
       "      <td>Social Networks Manifold Alignment Hypergraph ...</td>\n",
       "      <td>AIW: Machine learning and the web AIW: Ontolog...</td>\n",
       "    </tr>\n",
       "    <tr>\n",
       "      <td>394</td>\n",
       "      <td>Compact Aspect Embedding For Diversified Query...</td>\n",
       "      <td>AI and the Web (AIW)</td>\n",
       "      <td>query expansion search result diversification ...</td>\n",
       "      <td>AIW: Enhancing web search and information retr...</td>\n",
       "    </tr>\n",
       "    <tr>\n",
       "      <td>395</td>\n",
       "      <td>Contraction and Revision over DL-Lite TBoxes</td>\n",
       "      <td>Knowledge Representation and Reasoning (KRR)</td>\n",
       "      <td>Belief Change Description Logic Non-monotonic ...</td>\n",
       "      <td>KRR: Belief Change KRR: Description Logics KRR...</td>\n",
       "    </tr>\n",
       "    <tr>\n",
       "      <td>396</td>\n",
       "      <td>Zero Pronoun Resolution as Ranking</td>\n",
       "      <td>NLP and Text Mining (NLPTM)</td>\n",
       "      <td>Zero Pronouns Text Mining Natural Language Pro...</td>\n",
       "      <td>NLPTM: Evaluation and Analysis</td>\n",
       "    </tr>\n",
       "    <tr>\n",
       "      <td>397</td>\n",
       "      <td>Supervised Transfer Sparse Coding</td>\n",
       "      <td>Novel Machine Learning Algorithms (NMLA)</td>\n",
       "      <td>Sparse coding Transfer learning Supervised lea...</td>\n",
       "      <td>NMLA: Classification NMLA: Transfer, Adaptatio...</td>\n",
       "    </tr>\n",
       "  </tbody>\n",
       "</table>\n",
       "<p>398 rows × 4 columns</p>\n",
       "</div>"
      ],
      "text/plain": [
       "                                                 title  \\\n",
       "0                Kernelized Bayesian Transfer Learning   \n",
       "1    \"Source Free\" Transfer Learning for Text Class...   \n",
       "2    A Generalization of Probabilistic Serial to Ra...   \n",
       "3           Lifetime Lexical Variation in Social Media   \n",
       "4    Hybrid Singular Value Thresholding for Tensor ...   \n",
       "..                                                 ...   \n",
       "393  Mapping Users Across Networks by Manifold Alig...   \n",
       "394  Compact Aspect Embedding For Diversified Query...   \n",
       "395       Contraction and Revision over DL-Lite TBoxes   \n",
       "396                 Zero Pronoun Resolution as Ranking   \n",
       "397                  Supervised Transfer Sparse Coding   \n",
       "\n",
       "                                                groups  \\\n",
       "0             Novel Machine Learning Algorithms (NMLA)   \n",
       "1    AI and the Web (AIW) Novel Machine Learning Al...   \n",
       "2            Game Theory and Economic Paradigms (GTEP)   \n",
       "3                          NLP and Text Mining (NLPTM)   \n",
       "4    Knowledge Representation and Reasoning (KRR) M...   \n",
       "..                                                 ...   \n",
       "393                               AI and the Web (AIW)   \n",
       "394                               AI and the Web (AIW)   \n",
       "395       Knowledge Representation and Reasoning (KRR)   \n",
       "396                        NLP and Text Mining (NLPTM)   \n",
       "397           Novel Machine Learning Algorithms (NMLA)   \n",
       "\n",
       "                                              keywords  \\\n",
       "0    cross-domain learning domain adaptation kernel...   \n",
       "1    Transfer Learning Auxiliary Data Retrieval Tex...   \n",
       "2    social choice theory voting fair division soci...   \n",
       "3      Generative model Social Networks Age Prediction   \n",
       "4    tensor completion low-rank recovery hybrid sin...   \n",
       "..                                                 ...   \n",
       "393  Social Networks Manifold Alignment Hypergraph ...   \n",
       "394  query expansion search result diversification ...   \n",
       "395  Belief Change Description Logic Non-monotonic ...   \n",
       "396  Zero Pronouns Text Mining Natural Language Pro...   \n",
       "397  Sparse coding Transfer learning Supervised lea...   \n",
       "\n",
       "                                                topics  \n",
       "0    APP: Biomedical  Bioinformatics NMLA: Bayesian...  \n",
       "1    AIW: Knowledge acquisition from the web AIW: M...  \n",
       "2        GTEP: Game Theory GTEP: Social Choice  Voting  \n",
       "3    AIW: Web personalization and user modeling NLP...  \n",
       "4    KRR: Knowledge Representation (General/Other) ...  \n",
       "..                                                 ...  \n",
       "393  AIW: Machine learning and the web AIW: Ontolog...  \n",
       "394  AIW: Enhancing web search and information retr...  \n",
       "395  KRR: Belief Change KRR: Description Logics KRR...  \n",
       "396                     NLPTM: Evaluation and Analysis  \n",
       "397  NMLA: Classification NMLA: Transfer, Adaptatio...  \n",
       "\n",
       "[398 rows x 4 columns]"
      ]
     },
     "execution_count": 7,
     "metadata": {},
     "output_type": "execute_result"
    }
   ],
   "source": [
    "#cleaned dataframe\n",
    "ndf"
   ]
  },
  {
   "cell_type": "markdown",
   "metadata": {},
   "source": [
    "### word_tokenize"
   ]
  },
  {
   "cell_type": "code",
   "execution_count": 8,
   "metadata": {},
   "outputs": [],
   "source": [
    "#tokenizing all columns (word_tokenize)\n",
    "\n",
    "ndf['title'] = ndf['title'].map(lambda x:word_tokenize(x))\n",
    "\n",
    "ndf['keywords'] = ndf['keywords'].map(lambda x:word_tokenize(x))\n",
    "\n",
    "ndf['topics'] = ndf['topics'].map(lambda x:word_tokenize(str(x)))\n",
    "ndf['groups'] = ndf['groups'].map(lambda x:word_tokenize(str(x)))"
   ]
  },
  {
   "cell_type": "code",
   "execution_count": 9,
   "metadata": {
    "scrolled": true
   },
   "outputs": [
    {
     "data": {
      "text/html": [
       "<div>\n",
       "<style scoped>\n",
       "    .dataframe tbody tr th:only-of-type {\n",
       "        vertical-align: middle;\n",
       "    }\n",
       "\n",
       "    .dataframe tbody tr th {\n",
       "        vertical-align: top;\n",
       "    }\n",
       "\n",
       "    .dataframe thead th {\n",
       "        text-align: right;\n",
       "    }\n",
       "</style>\n",
       "<table border=\"1\" class=\"dataframe\">\n",
       "  <thead>\n",
       "    <tr style=\"text-align: right;\">\n",
       "      <th></th>\n",
       "      <th>title</th>\n",
       "      <th>groups</th>\n",
       "      <th>keywords</th>\n",
       "      <th>topics</th>\n",
       "    </tr>\n",
       "  </thead>\n",
       "  <tbody>\n",
       "    <tr>\n",
       "      <td>0</td>\n",
       "      <td>[Kernelized, Bayesian, Transfer, Learning]</td>\n",
       "      <td>[Novel, Machine, Learning, Algorithms, (, NMLA...</td>\n",
       "      <td>[cross-domain, learning, domain, adaptation, k...</td>\n",
       "      <td>[APP, :, Biomedical, Bioinformatics, NMLA, :, ...</td>\n",
       "    </tr>\n",
       "    <tr>\n",
       "      <td>1</td>\n",
       "      <td>[``, Source, Free, '', Transfer, Learning, for...</td>\n",
       "      <td>[AI, and, the, Web, (, AIW, ), Novel, Machine,...</td>\n",
       "      <td>[Transfer, Learning, Auxiliary, Data, Retrieva...</td>\n",
       "      <td>[AIW, :, Knowledge, acquisition, from, the, we...</td>\n",
       "    </tr>\n",
       "    <tr>\n",
       "      <td>2</td>\n",
       "      <td>[A, Generalization, of, Probabilistic, Serial,...</td>\n",
       "      <td>[Game, Theory, and, Economic, Paradigms, (, GT...</td>\n",
       "      <td>[social, choice, theory, voting, fair, divisio...</td>\n",
       "      <td>[GTEP, :, Game, Theory, GTEP, :, Social, Choic...</td>\n",
       "    </tr>\n",
       "    <tr>\n",
       "      <td>3</td>\n",
       "      <td>[Lifetime, Lexical, Variation, in, Social, Media]</td>\n",
       "      <td>[NLP, and, Text, Mining, (, NLPTM, )]</td>\n",
       "      <td>[Generative, model, Social, Networks, Age, Pre...</td>\n",
       "      <td>[AIW, :, Web, personalization, and, user, mode...</td>\n",
       "    </tr>\n",
       "    <tr>\n",
       "      <td>4</td>\n",
       "      <td>[Hybrid, Singular, Value, Thresholding, for, T...</td>\n",
       "      <td>[Knowledge, Representation, and, Reasoning, (,...</td>\n",
       "      <td>[tensor, completion, low-rank, recovery, hybri...</td>\n",
       "      <td>[KRR, :, Knowledge, Representation, (, General...</td>\n",
       "    </tr>\n",
       "  </tbody>\n",
       "</table>\n",
       "</div>"
      ],
      "text/plain": [
       "                                               title  \\\n",
       "0         [Kernelized, Bayesian, Transfer, Learning]   \n",
       "1  [``, Source, Free, '', Transfer, Learning, for...   \n",
       "2  [A, Generalization, of, Probabilistic, Serial,...   \n",
       "3  [Lifetime, Lexical, Variation, in, Social, Media]   \n",
       "4  [Hybrid, Singular, Value, Thresholding, for, T...   \n",
       "\n",
       "                                              groups  \\\n",
       "0  [Novel, Machine, Learning, Algorithms, (, NMLA...   \n",
       "1  [AI, and, the, Web, (, AIW, ), Novel, Machine,...   \n",
       "2  [Game, Theory, and, Economic, Paradigms, (, GT...   \n",
       "3              [NLP, and, Text, Mining, (, NLPTM, )]   \n",
       "4  [Knowledge, Representation, and, Reasoning, (,...   \n",
       "\n",
       "                                            keywords  \\\n",
       "0  [cross-domain, learning, domain, adaptation, k...   \n",
       "1  [Transfer, Learning, Auxiliary, Data, Retrieva...   \n",
       "2  [social, choice, theory, voting, fair, divisio...   \n",
       "3  [Generative, model, Social, Networks, Age, Pre...   \n",
       "4  [tensor, completion, low-rank, recovery, hybri...   \n",
       "\n",
       "                                              topics  \n",
       "0  [APP, :, Biomedical, Bioinformatics, NMLA, :, ...  \n",
       "1  [AIW, :, Knowledge, acquisition, from, the, we...  \n",
       "2  [GTEP, :, Game, Theory, GTEP, :, Social, Choic...  \n",
       "3  [AIW, :, Web, personalization, and, user, mode...  \n",
       "4  [KRR, :, Knowledge, Representation, (, General...  "
      ]
     },
     "execution_count": 9,
     "metadata": {},
     "output_type": "execute_result"
    }
   ],
   "source": [
    "ndf.head()"
   ]
  },
  {
   "cell_type": "markdown",
   "metadata": {},
   "source": [
    "### Stopwords_Removal"
   ]
  },
  {
   "cell_type": "code",
   "execution_count": 10,
   "metadata": {},
   "outputs": [],
   "source": [
    "stop_words = set(stopwords.words('english')) "
   ]
  },
  {
   "cell_type": "code",
   "execution_count": 11,
   "metadata": {},
   "outputs": [],
   "source": [
    "#removing stopwords from all the columns \n",
    "sw = set(stopwords.words('english'))\n",
    "ndf['title'] = ndf['title'].map(lambda x:[w for w in x if w not in sw])\n",
    "ndf['groups'] = ndf['groups'].map(lambda x:[w for w in x if w not in sw])\n",
    "ndf['keywords'] = ndf['keywords'].map(lambda x:[w for w in x if w not in sw])\n",
    "ndf['topics'] = ndf['topics'].map(lambda x:[w for w in x if w not in sw])"
   ]
  },
  {
   "cell_type": "code",
   "execution_count": 12,
   "metadata": {
    "scrolled": true
   },
   "outputs": [
    {
     "data": {
      "text/html": [
       "<div>\n",
       "<style scoped>\n",
       "    .dataframe tbody tr th:only-of-type {\n",
       "        vertical-align: middle;\n",
       "    }\n",
       "\n",
       "    .dataframe tbody tr th {\n",
       "        vertical-align: top;\n",
       "    }\n",
       "\n",
       "    .dataframe thead th {\n",
       "        text-align: right;\n",
       "    }\n",
       "</style>\n",
       "<table border=\"1\" class=\"dataframe\">\n",
       "  <thead>\n",
       "    <tr style=\"text-align: right;\">\n",
       "      <th></th>\n",
       "      <th>title</th>\n",
       "      <th>groups</th>\n",
       "      <th>keywords</th>\n",
       "      <th>topics</th>\n",
       "    </tr>\n",
       "  </thead>\n",
       "  <tbody>\n",
       "    <tr>\n",
       "      <td>0</td>\n",
       "      <td>[Kernelized, Bayesian, Transfer, Learning]</td>\n",
       "      <td>[Novel, Machine, Learning, Algorithms, (, NMLA...</td>\n",
       "      <td>[cross-domain, learning, domain, adaptation, k...</td>\n",
       "      <td>[APP, :, Biomedical, Bioinformatics, NMLA, :, ...</td>\n",
       "    </tr>\n",
       "    <tr>\n",
       "      <td>1</td>\n",
       "      <td>[``, Source, Free, '', Transfer, Learning, Tex...</td>\n",
       "      <td>[AI, Web, (, AIW, ), Novel, Machine, Learning,...</td>\n",
       "      <td>[Transfer, Learning, Auxiliary, Data, Retrieva...</td>\n",
       "      <td>[AIW, :, Knowledge, acquisition, web, AIW, :, ...</td>\n",
       "    </tr>\n",
       "    <tr>\n",
       "      <td>2</td>\n",
       "      <td>[A, Generalization, Probabilistic, Serial, Ran...</td>\n",
       "      <td>[Game, Theory, Economic, Paradigms, (, GTEP, )]</td>\n",
       "      <td>[social, choice, theory, voting, fair, divisio...</td>\n",
       "      <td>[GTEP, :, Game, Theory, GTEP, :, Social, Choic...</td>\n",
       "    </tr>\n",
       "    <tr>\n",
       "      <td>3</td>\n",
       "      <td>[Lifetime, Lexical, Variation, Social, Media]</td>\n",
       "      <td>[NLP, Text, Mining, (, NLPTM, )]</td>\n",
       "      <td>[Generative, model, Social, Networks, Age, Pre...</td>\n",
       "      <td>[AIW, :, Web, personalization, user, modeling,...</td>\n",
       "    </tr>\n",
       "    <tr>\n",
       "      <td>4</td>\n",
       "      <td>[Hybrid, Singular, Value, Thresholding, Tensor...</td>\n",
       "      <td>[Knowledge, Representation, Reasoning, (, KRR,...</td>\n",
       "      <td>[tensor, completion, low-rank, recovery, hybri...</td>\n",
       "      <td>[KRR, :, Knowledge, Representation, (, General...</td>\n",
       "    </tr>\n",
       "  </tbody>\n",
       "</table>\n",
       "</div>"
      ],
      "text/plain": [
       "                                               title  \\\n",
       "0         [Kernelized, Bayesian, Transfer, Learning]   \n",
       "1  [``, Source, Free, '', Transfer, Learning, Tex...   \n",
       "2  [A, Generalization, Probabilistic, Serial, Ran...   \n",
       "3      [Lifetime, Lexical, Variation, Social, Media]   \n",
       "4  [Hybrid, Singular, Value, Thresholding, Tensor...   \n",
       "\n",
       "                                              groups  \\\n",
       "0  [Novel, Machine, Learning, Algorithms, (, NMLA...   \n",
       "1  [AI, Web, (, AIW, ), Novel, Machine, Learning,...   \n",
       "2    [Game, Theory, Economic, Paradigms, (, GTEP, )]   \n",
       "3                   [NLP, Text, Mining, (, NLPTM, )]   \n",
       "4  [Knowledge, Representation, Reasoning, (, KRR,...   \n",
       "\n",
       "                                            keywords  \\\n",
       "0  [cross-domain, learning, domain, adaptation, k...   \n",
       "1  [Transfer, Learning, Auxiliary, Data, Retrieva...   \n",
       "2  [social, choice, theory, voting, fair, divisio...   \n",
       "3  [Generative, model, Social, Networks, Age, Pre...   \n",
       "4  [tensor, completion, low-rank, recovery, hybri...   \n",
       "\n",
       "                                              topics  \n",
       "0  [APP, :, Biomedical, Bioinformatics, NMLA, :, ...  \n",
       "1  [AIW, :, Knowledge, acquisition, web, AIW, :, ...  \n",
       "2  [GTEP, :, Game, Theory, GTEP, :, Social, Choic...  \n",
       "3  [AIW, :, Web, personalization, user, modeling,...  \n",
       "4  [KRR, :, Knowledge, Representation, (, General...  "
      ]
     },
     "execution_count": 12,
     "metadata": {},
     "output_type": "execute_result"
    }
   ],
   "source": [
    "ndf.head()"
   ]
  },
  {
   "cell_type": "markdown",
   "metadata": {},
   "source": [
    "### Lemmatization"
   ]
  },
  {
   "cell_type": "code",
   "execution_count": 13,
   "metadata": {},
   "outputs": [],
   "source": [
    "# Applying lemmatization in order to cut prefix and suffix and comparing with dictionary to get exact root words \n",
    "from nltk.stem import WordNetLemmatizer\n",
    "lem = WordNetLemmatizer()\n",
    "ndf['title'] = ndf['title'].map(lambda x:[lem.lemmatize(word) for word in x])\n",
    "ndf['groups'] = ndf['groups'].map(lambda x:[lem.lemmatize(word) for word in x])\n",
    "ndf['keywords'] = ndf['keywords'].map(lambda x:[lem.lemmatize(word) for word in x])\n",
    "ndf['topics'] = ndf['topics'].map(lambda x:[lem.lemmatize(word) for word in x])"
   ]
  },
  {
   "cell_type": "code",
   "execution_count": 14,
   "metadata": {
    "scrolled": true
   },
   "outputs": [
    {
     "data": {
      "text/html": [
       "<div>\n",
       "<style scoped>\n",
       "    .dataframe tbody tr th:only-of-type {\n",
       "        vertical-align: middle;\n",
       "    }\n",
       "\n",
       "    .dataframe tbody tr th {\n",
       "        vertical-align: top;\n",
       "    }\n",
       "\n",
       "    .dataframe thead th {\n",
       "        text-align: right;\n",
       "    }\n",
       "</style>\n",
       "<table border=\"1\" class=\"dataframe\">\n",
       "  <thead>\n",
       "    <tr style=\"text-align: right;\">\n",
       "      <th></th>\n",
       "      <th>title</th>\n",
       "      <th>groups</th>\n",
       "      <th>keywords</th>\n",
       "      <th>topics</th>\n",
       "    </tr>\n",
       "  </thead>\n",
       "  <tbody>\n",
       "    <tr>\n",
       "      <td>0</td>\n",
       "      <td>[Kernelized, Bayesian, Transfer, Learning]</td>\n",
       "      <td>[Novel, Machine, Learning, Algorithms, (, NMLA...</td>\n",
       "      <td>[cross-domain, learning, domain, adaptation, k...</td>\n",
       "      <td>[APP, :, Biomedical, Bioinformatics, NMLA, :, ...</td>\n",
       "    </tr>\n",
       "    <tr>\n",
       "      <td>1</td>\n",
       "      <td>[``, Source, Free, '', Transfer, Learning, Tex...</td>\n",
       "      <td>[AI, Web, (, AIW, ), Novel, Machine, Learning,...</td>\n",
       "      <td>[Transfer, Learning, Auxiliary, Data, Retrieva...</td>\n",
       "      <td>[AIW, :, Knowledge, acquisition, web, AIW, :, ...</td>\n",
       "    </tr>\n",
       "    <tr>\n",
       "      <td>2</td>\n",
       "      <td>[A, Generalization, Probabilistic, Serial, Ran...</td>\n",
       "      <td>[Game, Theory, Economic, Paradigms, (, GTEP, )]</td>\n",
       "      <td>[social, choice, theory, voting, fair, divisio...</td>\n",
       "      <td>[GTEP, :, Game, Theory, GTEP, :, Social, Choic...</td>\n",
       "    </tr>\n",
       "    <tr>\n",
       "      <td>3</td>\n",
       "      <td>[Lifetime, Lexical, Variation, Social, Media]</td>\n",
       "      <td>[NLP, Text, Mining, (, NLPTM, )]</td>\n",
       "      <td>[Generative, model, Social, Networks, Age, Pre...</td>\n",
       "      <td>[AIW, :, Web, personalization, user, modeling,...</td>\n",
       "    </tr>\n",
       "    <tr>\n",
       "      <td>4</td>\n",
       "      <td>[Hybrid, Singular, Value, Thresholding, Tensor...</td>\n",
       "      <td>[Knowledge, Representation, Reasoning, (, KRR,...</td>\n",
       "      <td>[tensor, completion, low-rank, recovery, hybri...</td>\n",
       "      <td>[KRR, :, Knowledge, Representation, (, General...</td>\n",
       "    </tr>\n",
       "  </tbody>\n",
       "</table>\n",
       "</div>"
      ],
      "text/plain": [
       "                                               title  \\\n",
       "0         [Kernelized, Bayesian, Transfer, Learning]   \n",
       "1  [``, Source, Free, '', Transfer, Learning, Tex...   \n",
       "2  [A, Generalization, Probabilistic, Serial, Ran...   \n",
       "3      [Lifetime, Lexical, Variation, Social, Media]   \n",
       "4  [Hybrid, Singular, Value, Thresholding, Tensor...   \n",
       "\n",
       "                                              groups  \\\n",
       "0  [Novel, Machine, Learning, Algorithms, (, NMLA...   \n",
       "1  [AI, Web, (, AIW, ), Novel, Machine, Learning,...   \n",
       "2    [Game, Theory, Economic, Paradigms, (, GTEP, )]   \n",
       "3                   [NLP, Text, Mining, (, NLPTM, )]   \n",
       "4  [Knowledge, Representation, Reasoning, (, KRR,...   \n",
       "\n",
       "                                            keywords  \\\n",
       "0  [cross-domain, learning, domain, adaptation, k...   \n",
       "1  [Transfer, Learning, Auxiliary, Data, Retrieva...   \n",
       "2  [social, choice, theory, voting, fair, divisio...   \n",
       "3  [Generative, model, Social, Networks, Age, Pre...   \n",
       "4  [tensor, completion, low-rank, recovery, hybri...   \n",
       "\n",
       "                                              topics  \n",
       "0  [APP, :, Biomedical, Bioinformatics, NMLA, :, ...  \n",
       "1  [AIW, :, Knowledge, acquisition, web, AIW, :, ...  \n",
       "2  [GTEP, :, Game, Theory, GTEP, :, Social, Choic...  \n",
       "3  [AIW, :, Web, personalization, user, modeling,...  \n",
       "4  [KRR, :, Knowledge, Representation, (, General...  "
      ]
     },
     "execution_count": 14,
     "metadata": {},
     "output_type": "execute_result"
    }
   ],
   "source": [
    "ndf.head()"
   ]
  },
  {
   "cell_type": "markdown",
   "metadata": {},
   "source": [
    "### Tf-Idf vectorizor"
   ]
  },
  {
   "cell_type": "code",
   "execution_count": 15,
   "metadata": {},
   "outputs": [],
   "source": [
    "#applying tf-idf vectorisor in order to convert text into number (making of number matrix)\n",
    "tf_idf_vectorizor = TfidfVectorizer(stop_words = 'english',max_features = 20000)"
   ]
  },
  {
   "cell_type": "code",
   "execution_count": 16,
   "metadata": {},
   "outputs": [
    {
     "data": {
      "text/plain": [
       "TfidfVectorizer(analyzer='word', binary=False, decode_error='strict',\n",
       "                dtype=<class 'numpy.float64'>, encoding='utf-8',\n",
       "                input='content', lowercase=True, max_df=1.0, max_features=20000,\n",
       "                min_df=1, ngram_range=(1, 1), norm='l2', preprocessor=None,\n",
       "                smooth_idf=True, stop_words='english', strip_accents=None,\n",
       "                sublinear_tf=False, token_pattern='(?u)\\\\b\\\\w\\\\w+\\\\b',\n",
       "                tokenizer=None, use_idf=True, vocabulary=None)"
      ]
     },
     "execution_count": 16,
     "metadata": {},
     "output_type": "execute_result"
    }
   ],
   "source": [
    "tf_idf_vectorizor\n"
   ]
  },
  {
   "cell_type": "code",
   "execution_count": 17,
   "metadata": {},
   "outputs": [],
   "source": [
    "tf_idf = tf_idf_vectorizor.fit_transform(ndf)"
   ]
  },
  {
   "cell_type": "code",
   "execution_count": 18,
   "metadata": {},
   "outputs": [],
   "source": [
    "ndf['title']=ndf['title'].apply(lambda x :(str(x).lower()))\n",
    "ndf['groups']=ndf['groups'].apply(lambda x :(str(x).lower()))\n",
    "ndf['keywords']=ndf['keywords'].apply(lambda x :(str(x).lower()))\n",
    "ndf['topics']=ndf['topics'].apply(lambda x :(str(x).lower()))\n"
   ]
  },
  {
   "cell_type": "code",
   "execution_count": 19,
   "metadata": {
    "scrolled": false
   },
   "outputs": [
    {
     "data": {
      "text/plain": [
       "<398x342 sparse matrix of type '<class 'numpy.float64'>'\n",
       "\twith 6385 stored elements in Compressed Sparse Row format>"
      ]
     },
     "execution_count": 19,
     "metadata": {},
     "output_type": "execute_result"
    }
   ],
   "source": [
    "tfidf = TfidfVectorizer(min_df = 5,\n",
    "    max_df = 0.7,\n",
    "    max_features = 8000,\n",
    "    stop_words = 'english'\n",
    ")\n",
    "tfidf.fit(ndf[\"title\"]+ndf[\"groups\"]+ndf[\"topics\"]+ndf[\"keywords\"])\n",
    "text = tfidf.transform(ndf[\"title\"]+ndf[\"groups\"]+ndf[\"topics\"]+ndf[\"keywords\"])\n",
    "text"
   ]
  },
  {
   "cell_type": "markdown",
   "metadata": {},
   "source": [
    "# K-Means Clustering"
   ]
  },
  {
   "cell_type": "markdown",
   "metadata": {},
   "source": [
    "### Elbow method for optimal K- value"
   ]
  },
  {
   "cell_type": "code",
   "execution_count": 20,
   "metadata": {},
   "outputs": [],
   "source": [
    "#Finding optimum K value \n",
    "Sum_of_squared_distances = []\n",
    "K = range(1,15)\n",
    "for k in K:\n",
    "    km = KMeans(n_clusters=k)\n",
    "    km = km.fit(text)\n",
    "    Sum_of_squared_distances.append(km.inertia_)"
   ]
  },
  {
   "cell_type": "code",
   "execution_count": 21,
   "metadata": {
    "scrolled": true
   },
   "outputs": [
    {
     "data": {
      "text/plain": [
       "251.0525369399863"
      ]
     },
     "execution_count": 21,
     "metadata": {},
     "output_type": "execute_result"
    }
   ],
   "source": [
    "km.inertia_"
   ]
  },
  {
   "cell_type": "code",
   "execution_count": 22,
   "metadata": {
    "scrolled": true
   },
   "outputs": [
    {
     "data": {
      "image/png": "[encoded data removed]",
      "text/plain": [
       "<Figure size 432x288 with 1 Axes>"
      ]
     },
     "metadata": {
      "needs_background": "light"
     },
     "output_type": "display_data"
    }
   ],
   "source": [
    "#plotting elbow graph to get optimum K value for clusters\n",
    "plt.plot(K, Sum_of_squared_distances, 'bx-')\n",
    "plt.xlabel('k')\n",
    "plt.ylabel('Sum_of_squared_distances')\n",
    "plt.title('Elbow Method For Optimal k')\n",
    "plt.show()"
   ]
  },
  {
   "cell_type": "markdown",
   "metadata": {},
   "source": [
    "#### Hence we selected 9 clusters from elbow method"
   ]
  },
  {
   "cell_type": "code",
   "execution_count": 23,
   "metadata": {},
   "outputs": [],
   "source": [
    "#Applying K-means clustering\n",
    "clusters = KMeans(n_clusters=9, max_iter=100).fit_predict(text)\n",
    "#AgglomerativeClustering(n_cluster=k_cluster,linkage=\"ward\")\n",
    "#SpectralClustering(n_cluster=k_clusters,affinity=\"precomputed,n_init=200\")\n",
    "#AffinityPropagation(damping=0.6)"
   ]
  },
  {
   "cell_type": "markdown",
   "metadata": {},
   "source": [
    "# PCA & tSNE"
   ]
  },
  {
   "cell_type": "code",
   "execution_count": 24,
   "metadata": {
    "scrolled": true
   },
   "outputs": [
    {
     "data": {
      "image/png": "[encoded data removed]",
      "text/plain": [
       "<Figure size 1008x432 with 2 Axes>"
      ]
     },
     "metadata": {
      "needs_background": "light"
     },
     "output_type": "display_data"
    }
   ],
   "source": [
    "#function to apply principle component analysis \n",
    "def plot_tsne_pca(data, labels):\n",
    "    max_label = max(labels)\n",
    "    max_items = np.random.choice(range(data.shape[0]), size=400, replace=True)\n",
    "    \n",
    "    pca = PCA(n_components=2).fit_transform(data[max_items,:].todense())\n",
    "    tsne = TSNE().fit_transform(PCA(n_components=50).fit_transform(data[max_items,:].todense()))\n",
    "    \n",
    "    \n",
    "    idx = np.random.choice(range(pca.shape[0]), size=300, replace=False)\n",
    "    label_subset = labels[max_items]\n",
    "    label_subset = [cm.hsv(i/max_label) for i in label_subset[idx]]\n",
    "    \n",
    "    f, ax = plt.subplots(1, 2, figsize=(14, 6))\n",
    "    \n",
    "    ax[0].scatter(pca[idx, 0], pca[idx, 1], c=label_subset)\n",
    "    ax[0].set_title('PCA Cluster Plot')\n",
    "    \n",
    "    ax[1].scatter(tsne[idx, 0], tsne[idx, 1], c=label_subset)\n",
    "    ax[1].set_title('TSNE Cluster Plot')\n",
    "    \n",
    "plot_tsne_pca(text, clusters)\n",
    "    "
   ]
  },
  {
   "cell_type": "code",
   "execution_count": 25,
   "metadata": {},
   "outputs": [
    {
     "data": {
      "text/plain": [
       "0.10029970383421852"
      ]
     },
     "execution_count": 25,
     "metadata": {},
     "output_type": "execute_result"
    }
   ],
   "source": [
    "#silhouette_score (-1: worst ) (1: best) (0: clusters are overlapping)\n",
    "import sklearn\n",
    "from sklearn.metrics import silhouette_score\n",
    "sklearn.metrics.silhouette_score(text, clusters, metric='euclidean', sample_size=None, random_state=None)"
   ]
  },
  {
   "cell_type": "markdown",
   "metadata": {},
   "source": [
    "#### Final clusters & keywords which are most important and relevant "
   ]
  },
  {
   "cell_type": "code",
   "execution_count": 26,
   "metadata": {},
   "outputs": [
    {
     "name": "stdout",
     "output_type": "stream",
     "text": [
      "\n",
      "Cluster 0\n",
      "sparse,kernel,label,reinforcement,supervised,adaptation,multi,dimension,bayesian,reduction,transfer,ru,selection,classification,feature,algorithms,novel,machine,nmla,learning\n",
      "\n",
      "Cluster 1\n",
      "spatial,languages,based,general,programming,ru,action,qualitative,diagnosis,ontologies,change,causality,logics,complexity,logic,description,representation,knowledge,reasoning,krr\n",
      "\n",
      "Cluster 2\n",
      "rob,spatiotemporal,computational,cognitive,language,humans,vision,cs,ai,learning,modeling,mas,human,recognition,cm,dynamic,app,hai,vis,csai\n",
      "\n",
      "Cluster 3\n",
      "games,information,imperfect,auctions,computational,design,market,mechanism,multiagent,systems,equilibrium,voting,paradigms,economic,mas,social,choice,theory,game,gtep\n",
      "\n",
      "Cluster 4\n",
      "environments,sequential,search,making,markov,robotics,optimization,rob,temporal,deterministic,krr,decision,probabilistic,reasoning,general,uncertainty,ru,scheduling,ps,planning\n",
      "\n",
      "Cluster 5\n",
      "learning,problem,hso,mas,algorithm,tools,general,solvers,distributed,counting,global,optimization,constraints,csp,satisfiability,sat,search,satisfaction,constraint,scs\n",
      "\n",
      "Cluster 6\n",
      "nlpml,neural,clustering,data,retrieval,unsupervised,algorithms,novel,classification,online,image,general,vis,app,supervised,nmla,machine,applications,mla,learning\n",
      "\n",
      "Cluster 7\n",
      "recommender,knowledge,nlpkr,nlpml,processing,language,machine,networks,extraction,information,mining,nlp,recommendation,learning,nlptm,text,ai,social,aiw,web\n",
      "\n",
      "Cluster 8\n",
      "local,fast,machine,parallel,stochastic,nmla,general,deterministic,constraint,scs,learning,analysis,evaluation,ps,planning,scheduling,optimization,heuristic,hso,search\n"
     ]
    }
   ],
   "source": [
    "def get_top_keywords(data, clusters, labels, n_terms):\n",
    "    df = pd.DataFrame(data.todense()).groupby(clusters).mean()\n",
    "    \n",
    "    for i,r in df.iterrows():\n",
    "        print('\\nCluster {}'.format(i))\n",
    "        print(','.join([labels[t] for t in np.argsort(r)[-n_terms:]]))\n",
    "            \n",
    "get_top_keywords(text, clusters, tfidf.get_feature_names(), 20)"
   ]
  },
  {
   "cell_type": "markdown",
   "metadata": {},
   "source": [
    "# Keywords for SEO"
   ]
  },
  {
   "cell_type": "raw",
   "metadata": {},
   "source": [
    "Game Theory\n",
    "Social Media Analytics\n",
    "Natural Language Processing(NLP)\n",
    "Optimization\n",
    "Computer Vision\n",
    "Robotics\n",
    "Model Learning\n",
    "Neural Networks\n",
    "Information Security\n",
    "Linear Programming\n",
    "Knowledge Graph\n",
    "Reasoning Based Models\n",
    "Probability Theory\n",
    "Recommender System \n",
    "Bayesian spam filtering\n",
    "Hidden Markov Model \n",
    "Decision Making \n",
    "Reinforcement Learning\n",
    "Data Mining\n",
    "Voice Recognition\n",
    "Web Analytics\n",
    "Planning & Scheduling\n",
    "Machine Learning Algorithm\n",
    "Human Diagnosis\n",
    "Heuristic Search\n",
    "Knowledge Representation & Reasoning\n",
    "Ontology\n",
    "\n",
    "\n",
    "\n",
    "\n"
   ]
  }
 ],
 "metadata": {
  "kernelspec": {
   "display_name": "Python 3",
   "language": "python",
   "name": "python3"
  },
  "language_info": {
   "codemirror_mode": {
    "name": "ipython",
    "version": 3
   },
   "file_extension": ".py",
   "mimetype": "text/x-python",
   "name": "python",
   "nbconvert_exporter": "python",
   "pygments_lexer": "ipython3",
   "version": "3.7.1"
  }
 },
 "nbformat": 4,
 "nbformat_minor": 2
}
